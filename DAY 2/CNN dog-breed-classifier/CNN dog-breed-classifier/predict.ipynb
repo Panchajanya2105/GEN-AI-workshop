{
 "cells": [
  {
   "cell_type": "code",
   "execution_count": 14,
   "id": "dca6c504-45cf-4ca5-af0a-22bf8a814d78",
   "metadata": {},
   "outputs": [
    {
     "name": "stderr",
     "output_type": "stream",
     "text": [
      "WARNING:absl:Compiled the loaded model, but the compiled metrics have yet to be built. `model.compile_metrics` will be empty until you train or evaluate the model.\n"
     ]
    },
    {
     "name": "stdout",
     "output_type": "stream",
     "text": [
      "WARNING:tensorflow:6 out of the last 6 calls to <function TensorFlowTrainer.make_predict_function.<locals>.one_step_on_data_distributed at 0x3082b0cc0> triggered tf.function retracing. Tracing is expensive and the excessive number of tracings could be due to (1) creating @tf.function repeatedly in a loop, (2) passing tensors with different shapes, (3) passing Python objects instead of tensors. For (1), please define your @tf.function outside of the loop. For (2), @tf.function has reduce_retracing=True option that can avoid unnecessary retracing. For (3), please refer to https://www.tensorflow.org/guide/function#controlling_retracing and https://www.tensorflow.org/api_docs/python/tf/function for  more details.\n"
     ]
    },
    {
     "name": "stderr",
     "output_type": "stream",
     "text": [
      "WARNING:tensorflow:6 out of the last 6 calls to <function TensorFlowTrainer.make_predict_function.<locals>.one_step_on_data_distributed at 0x3082b0cc0> triggered tf.function retracing. Tracing is expensive and the excessive number of tracings could be due to (1) creating @tf.function repeatedly in a loop, (2) passing tensors with different shapes, (3) passing Python objects instead of tensors. For (1), please define your @tf.function outside of the loop. For (2), @tf.function has reduce_retracing=True option that can avoid unnecessary retracing. For (3), please refer to https://www.tensorflow.org/guide/function#controlling_retracing and https://www.tensorflow.org/api_docs/python/tf/function for  more details.\n"
     ]
    },
    {
     "name": "stdout",
     "output_type": "stream",
     "text": [
      "\u001b[1m1/1\u001b[0m \u001b[32m━━━━━━━━━━━━━━━━━━━━\u001b[0m\u001b[37m\u001b[0m \u001b[1m0s\u001b[0m 64ms/step\n",
      "\n",
      "Predicted Class: Boxer\n"
     ]
    },
    {
     "data": {
      "text/plain": [
       "('Boxer', 11.928369849920273)"
      ]
     },
     "execution_count": 14,
     "metadata": {},
     "output_type": "execute_result"
    }
   ],
   "source": [
    "import numpy as np\n",
    "import tensorflow as tf\n",
    "from tensorflow.keras.models import load_model\n",
    "from PIL import Image\n",
    "import os\n",
    "from sklearn.preprocessing import LabelEncoder\n",
    "\n",
    "# Load the trained model\n",
    "model = load_model('dog_breed_classifier_model.h5')\n",
    "\n",
    "# Load label encoder and filter out hidden files\n",
    "labels_path = 'dataset'\n",
    "label_encoder = LabelEncoder()\n",
    "label_encoder.classes_ = np.array(\n",
    "    sorted([label for label in os.listdir(labels_path) if not label.startswith('.')])\n",
    ")\n",
    "\n",
    "# Function to preprocess an image\n",
    "def preprocess_image(image_path, image_size=(255, 255)):\n",
    "    img = Image.open(image_path)\n",
    "    img = img.resize(image_size)\n",
    "    img = np.array(img) / 255.0  # Normalize\n",
    "    img = np.expand_dims(img, axis=0)  # Add batch dimension\n",
    "    return img\n",
    "\n",
    "# Function to predict the breed\n",
    "def predict_breed(image_path):\n",
    "    if not os.path.exists(image_path):\n",
    "        print(\"Error: Image file not found.\")\n",
    "        return None, None\n",
    "\n",
    "    img = preprocess_image(image_path)\n",
    "    prediction = model.predict(img)\n",
    "    predicted_class = label_encoder.inverse_transform([np.argmax(prediction)])[0]\n",
    "    confidence = np.max(prediction) * 100\n",
    "\n",
    "    print(f\"\\nPredicted Class: {predicted_class}\")\n",
    "\n",
    "    return predicted_class, confidence\n",
    "\n",
    "# Run directly by specifying the image path\n",
    "image_path = \"Testing images/Boxer_42.jpg\"  # Replace with actual image path\n",
    "predict_breed(image_path)\n"
   ]
  },
  {
   "cell_type": "code",
   "execution_count": null,
   "id": "81157502-2370-4f84-be3d-c54e7cf6cfb9",
   "metadata": {},
   "outputs": [],
   "source": []
  }
 ],
 "metadata": {
  "kernelspec": {
   "display_name": "Python [conda env:base] *",
   "language": "python",
   "name": "conda-base-py"
  },
  "language_info": {
   "codemirror_mode": {
    "name": "ipython",
    "version": 3
   },
   "file_extension": ".py",
   "mimetype": "text/x-python",
   "name": "python",
   "nbconvert_exporter": "python",
   "pygments_lexer": "ipython3",
   "version": "3.12.7"
  }
 },
 "nbformat": 4,
 "nbformat_minor": 5
}
