{
 "cells": [
  {
   "cell_type": "code",
   "execution_count": 47,
   "id": "7e772201-dd58-40c7-a1fc-ff1abfaf3b35",
   "metadata": {},
   "outputs": [
    {
     "name": "stdout",
     "output_type": "stream",
     "text": [
      "WARNING:tensorflow:5 out of the last 7 calls to <function TensorFlowTrainer.make_predict_function.<locals>.one_step_on_data_distributed at 0x140bf7380> triggered tf.function retracing. Tracing is expensive and the excessive number of tracings could be due to (1) creating @tf.function repeatedly in a loop, (2) passing tensors with different shapes, (3) passing Python objects instead of tensors. For (1), please define your @tf.function outside of the loop. For (2), @tf.function has reduce_retracing=True option that can avoid unnecessary retracing. For (3), please refer to https://www.tensorflow.org/guide/function#controlling_retracing and https://www.tensorflow.org/api_docs/python/tf/function for  more details.\n",
      "\u001b[1m1/1\u001b[0m \u001b[32m━━━━━━━━━━━━━━━━━━━━\u001b[0m\u001b[37m\u001b[0m \u001b[1m0s\u001b[0m 68ms/step\n",
      "\n",
      "Predicted Bone Fracture Type: Spiral Fracture\n",
      "Confidence: 98.74%\n",
      "Image Path: /Users/shreyanthhg/Desktop/BGSCET/CSE/Day_3/CNN/Bone Break Classification/Spiral Fracture/Test/590_2014_1411_Fig1_HTc234c5605fa8336a4d522e89d48.jpg\n"
     ]
    }
   ],
   "source": [
    "import tensorflow as tf\n",
    "import numpy as np\n",
    "from tensorflow import keras\n",
    "from tensorflow.keras.preprocessing import image\n",
    "from pathlib import Path\n",
    "\n",
    "# Load the trained model\n",
    "MODEL_PATH = Path(\"Bone_Classification.keras\")  # Ensure model exists\n",
    "if not MODEL_PATH.exists():\n",
    "    print(f\"Error: Model file '{MODEL_PATH}' not found.\")\n",
    "    exit()\n",
    "\n",
    "model = keras.models.load_model(str(MODEL_PATH))  # Convert Path to string for TensorFlow\n",
    "\n",
    "# Define class labels\n",
    "CLASS_NAMES = [\n",
    "    'Avulsion fracture', 'Comminuted fracture', 'Fracture Dislocation',\n",
    "    'Greenstick fracture', 'Hairline Fracture', 'Impacted fracture',\n",
    "    'Longitudinal fracture', 'Oblique fracture', 'Pathological fracture',\n",
    "    'Spiral Fracture'\n",
    "]\n",
    "\n",
    "# **Set the image path here** 👇\n",
    "IMAGE_PATH = Path(\"/Users/shreyanthhg/Desktop/BGSCET/CSE/Day_3/CNN/Bone Break Classification/Spiral Fracture/Test/590_2014_1411_Fig1_HTc234c5605fa8336a4d522e89d48.jpg\")  # Update this path\n",
    "\n",
    "def preprocess_image(img_path):\n",
    "    \"\"\"\n",
    "    Preprocesses an image for model prediction.\n",
    "    - Resizes to (256, 256)\n",
    "    - Converts to float32 and normalizes (0-1)\n",
    "    - Expands dimensions to match model input shape\n",
    "    \"\"\"\n",
    "    img = image.load_img(img_path, target_size=(256, 256))  # Resize\n",
    "    img_array = image.img_to_array(img)  # Convert to array\n",
    "    img_array = img_array / 255.0  # Normalize\n",
    "    img_array = np.expand_dims(img_array, axis=0)  # Expand dims for batch\n",
    "    return img_array\n",
    "\n",
    "def predict_bone_fracture(img_path):\n",
    "    \"\"\"\n",
    "    Predicts the class of the given bone X-ray image.\n",
    "    \"\"\"\n",
    "    img_path = img_path.resolve()  # Convert to absolute path\n",
    "\n",
    "    # Check if image exists\n",
    "    if not img_path.exists():\n",
    "        print(f\"Error: Image file '{img_path}' not found.\")\n",
    "        return\n",
    "\n",
    "    processed_img = preprocess_image(str(img_path))  # Convert Path to string\n",
    "\n",
    "    # Make a prediction\n",
    "    predictions = model.predict(processed_img)\n",
    "\n",
    "    # Get the predicted class\n",
    "    predicted_class_index = np.argmax(predictions)\n",
    "    predicted_class = CLASS_NAMES[predicted_class_index]\n",
    "\n",
    "    # Get the confidence score\n",
    "    confidence = np.max(predictions) * 100\n",
    "\n",
    "    print(f\"\\nPredicted Bone Fracture Type: {predicted_class}\")\n",
    "    print(f\"Confidence: {confidence:.2f}%\")\n",
    "    print(f\"Image Path: {img_path}\")\n",
    "\n",
    "# Run prediction on the specified image path\n",
    "predict_bone_fracture(IMAGE_PATH)\n"
   ]
  },
  {
   "cell_type": "code",
   "execution_count": null,
   "id": "d8d1bcbd-e5bb-4511-ba4e-da6475bb428c",
   "metadata": {},
   "outputs": [],
   "source": []
  }
 ],
 "metadata": {
  "kernelspec": {
   "display_name": "Python [conda env:base] *",
   "language": "python",
   "name": "conda-base-py"
  },
  "language_info": {
   "codemirror_mode": {
    "name": "ipython",
    "version": 3
   },
   "file_extension": ".py",
   "mimetype": "text/x-python",
   "name": "python",
   "nbconvert_exporter": "python",
   "pygments_lexer": "ipython3",
   "version": "3.12.7"
  }
 },
 "nbformat": 4,
 "nbformat_minor": 5
}
