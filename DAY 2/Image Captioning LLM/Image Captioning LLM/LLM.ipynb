{
 "cells": [
  {
   "cell_type": "code",
   "execution_count": 4,
   "id": "15686eae-c21a-40e5-b5d7-e18032b53748",
   "metadata": {},
   "outputs": [
    {
     "name": "stdout",
     "output_type": "stream",
     "text": [
      "Caption: you are seeing a man water skiing on a lake with a rope\n"
     ]
    }
   ],
   "source": [
    "import os\n",
    "from PIL import Image\n",
    "from transformers import BlipProcessor, BlipForConditionalGeneration\n",
    "\n",
    "def generate_caption(image_path):\n",
    "    processor = BlipProcessor.from_pretrained(\"Salesforce/blip-image-captioning-large\")\n",
    "    model = BlipForConditionalGeneration.from_pretrained(\"Salesforce/blip-image-captioning-large\")\n",
    "    \n",
    "    image = Image.open(image_path).convert(\"RGB\")\n",
    "    text = \"You are seeing a\"\n",
    "    inputs = processor(image, text, return_tensors=\"pt\")\n",
    "    out = model.generate(**inputs)\n",
    "    caption = processor.decode(out[0], skip_special_tokens=True)\n",
    "    \n",
    "    print(f\"Caption: {caption}\")\n",
    "\n",
    "if __name__ == \"__main__\":\n",
    "    image_path = \"Sample Images/172097782_f0844ec317.jpg\"\n",
    "    if os.path.exists(image_path):\n",
    "        generate_caption(image_path)\n",
    "    else:\n",
    "        print(\"Invalid image path. Please provide a valid path.\")\n"
   ]
  },
  {
   "cell_type": "code",
   "execution_count": null,
   "id": "28094cc1-b533-45cb-b94b-60f62e778bb6",
   "metadata": {},
   "outputs": [],
   "source": []
  }
 ],
 "metadata": {
  "kernelspec": {
   "display_name": "Python [conda env:base] *",
   "language": "python",
   "name": "conda-base-py"
  },
  "language_info": {
   "codemirror_mode": {
    "name": "ipython",
    "version": 3
   },
   "file_extension": ".py",
   "mimetype": "text/x-python",
   "name": "python",
   "nbconvert_exporter": "python",
   "pygments_lexer": "ipython3",
   "version": "3.12.7"
  }
 },
 "nbformat": 4,
 "nbformat_minor": 5
}
