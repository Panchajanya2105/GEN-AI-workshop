{
  "nbformat": 4,
  "nbformat_minor": 0,
  "metadata": {
    "colab": {
      "provenance": []
    },
    "kernelspec": {
      "name": "python3",
      "display_name": "Python 3"
    },
    "language_info": {
      "name": "python"
    }
  },
  "cells": [
    {
      "cell_type": "code",
      "execution_count": 11,
      "metadata": {
        "colab": {
          "base_uri": "https://localhost:8080/"
        },
        "id": "WdDrDe1Nxbwb",
        "outputId": "378040be-d066-40d5-d7b7-e7f446a324cf"
      },
      "outputs": [
        {
          "output_type": "stream",
          "name": "stderr",
          "text": [
            "Device set to use cpu\n"
          ]
        },
        {
          "output_type": "stream",
          "name": "stdout",
          "text": [
            "Q: What is the main topic of the document?\n",
            "A: security threats\n",
            "\n",
            "Q: what is it about?\n",
            "A: deep learning-based tabular data classification model that leverages sequential attention mechanisms\n",
            "\n",
            "Q: What is the key conclusion?\n",
            "A: **Efficient computation\n",
            "\n"
          ]
        }
      ],
      "source": [
        "from transformers import pipeline\n",
        "\n",
        "# Load a pre-trained Transformer model for Question Answering\n",
        "qa_pipeline = pipeline(\"question-answering\", model=\"deepset/roberta-base-squad2\")\n",
        "\n",
        "# Load document text\n",
        "def load_document(file_path):\n",
        "    \"\"\"Load document text from a file\"\"\"\n",
        "    with open(file_path, \"r\", encoding=\"utf-8\") as file:\n",
        "        return file.read()\n",
        "\n",
        "# Ask questions about the document\n",
        "def ask_question(context, question):\n",
        "    \"\"\"Process the question using the LLM and return the answer\"\"\"\n",
        "    response = qa_pipeline(question=question, context=context)\n",
        "    return response[\"answer\"]\n",
        "\n",
        "# Example usage\n",
        "if __name__ == \"__main__\":\n",
        "    doc_path = \"/content/TabNet Classification for IoMT Attack Detection.txt\"  # Replace with your document path\n",
        "    context_text = load_document(doc_path)  # Load document content\n",
        "\n",
        "    # Example Questions\n",
        "    questions = [\n",
        "        \"What is the main topic of the document?\",\n",
        "        \"what is it about?\",\n",
        "        \"What is the key conclusion?\",\n",
        "    ]\n",
        "\n",
        "    # Generate Answers\n",
        "    for q in questions:\n",
        "        answer = ask_question(context_text, q)\n",
        "        print(f\"Q: {q}\\nA: {answer}\\n\")\n"
      ]
    },
    {
      "cell_type": "code",
      "source": [],
      "metadata": {
        "colab": {
          "base_uri": "https://localhost:8080/"
        },
        "id": "YfpbX5PRxgfH",
        "outputId": "dc768c5f-3f6f-4fda-e60c-562be1b84a65"
      },
      "execution_count": 7,
      "outputs": [
        {
          "output_type": "stream",
          "name": "stdout",
          "text": [
            "Collecting python-docx\n",
            "  Downloading python_docx-1.1.2-py3-none-any.whl.metadata (2.0 kB)\n",
            "Requirement already satisfied: lxml>=3.1.0 in /usr/local/lib/python3.11/dist-packages (from python-docx) (5.3.0)\n",
            "Requirement already satisfied: typing-extensions>=4.9.0 in /usr/local/lib/python3.11/dist-packages (from python-docx) (4.12.2)\n",
            "Downloading python_docx-1.1.2-py3-none-any.whl (244 kB)\n",
            "\u001b[?25l   \u001b[90m━━━━━━━━━━━━━━━━━━━━━━━━━━━━━━━━━━━━━━━━\u001b[0m \u001b[32m0.0/244.3 kB\u001b[0m \u001b[31m?\u001b[0m eta \u001b[36m-:--:--\u001b[0m\r\u001b[2K   \u001b[91m━━━━━━━━━━━━━━━━━━━━━━━━━━━━━━━━━━━━━━\u001b[0m\u001b[91m╸\u001b[0m\u001b[90m━\u001b[0m \u001b[32m235.5/244.3 kB\u001b[0m \u001b[31m8.3 MB/s\u001b[0m eta \u001b[36m0:00:01\u001b[0m\r\u001b[2K   \u001b[90m━━━━━━━━━━━━━━━━━━━━━━━━━━━━━━━━━━━━━━━━\u001b[0m \u001b[32m244.3/244.3 kB\u001b[0m \u001b[31m5.8 MB/s\u001b[0m eta \u001b[36m0:00:00\u001b[0m\n",
            "\u001b[?25hInstalling collected packages: python-docx\n",
            "Successfully installed python-docx-1.1.2\n"
          ]
        }
      ]
    },
    {
      "cell_type": "code",
      "source": [
        "pip install python-docx"
      ],
      "metadata": {
        "id": "Umn2T9ydxpyj"
      },
      "execution_count": null,
      "outputs": []
    }
  ]
}