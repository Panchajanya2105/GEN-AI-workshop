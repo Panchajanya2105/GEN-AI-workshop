{
 "cells": [
  {
   "cell_type": "markdown",
   "metadata": {
    "id": "o89odCTQj8KU"
   },
   "source": [
    "# Ecommerce Customer Spend Prediction with Linear Regression:\n",
    "\n",
    "- ## Objective:\n",
    "The objective of using linear regression for this dataset is to predict the Yearly Amount Spent by customers based on various customer features such as Time on App, Time on Website, and Length of Membership. By applying linear regression, the goal is to establish a linear relationship between these independent variables (customer behaviors) and the dependent variable (the amount spent annually). This model can then be used to make predictions on future customer spending, assisting in business decisions and customer segmentation strategies.\n"
   ]
  },
  {
   "cell_type": "markdown",
   "metadata": {
    "id": "ZXeMeaBJhty9"
   },
   "source": [
    "- ## About the dataste:\n",
    "This dataset contains data of customer from a ecommerce platform. (2022-01-19)\n",
    "Can use this data to predict the Yearly Amount Spent based on customer features\n",
    "\n",
    "Columns:\n",
    "\n",
    "-Email\n",
    "\n",
    "-Address\n",
    "\n",
    "-Avatar\n",
    "\n",
    "-Time on App\n",
    "\n",
    "-Time on Website\n",
    "\n",
    "-Length of Membership\n",
    "\n",
    "-Yearly Amount Spent"
   ]
  },
  {
   "cell_type": "markdown",
   "metadata": {
    "id": "IN9jLse5y4Kz"
   },
   "source": [
    "-----------------------------------------------------------------------------------------------------------------------------------------------------------------------------------------"
   ]
  },
  {
   "cell_type": "markdown",
   "metadata": {
    "id": "HqPCoPwezBCo"
   },
   "source": [
    "### import libraries:"
   ]
  },
  {
   "cell_type": "code",
   "execution_count": 4,
   "metadata": {
    "id": "wMebCirQj8KX"
   },
   "outputs": [],
   "source": [
    "import numpy as np\n",
    "import pandas as pd\n",
    "import seaborn as sns\n",
    "import matplotlib.pyplot as plt\n",
    "from sklearn.linear_model import LinearRegression\n",
    "from sklearn.model_selection import train_test_split\n",
    "from sklearn.metrics import mean_absolute_error, mean_squared_error, r2_score\n",
    "%matplotlib inline\n",
    "plt.rcParams[\"figure.figsize\"] = (10,6)\n",
    "#used to configure the Matplotlib plotting library for inline plotting and to set the default figure size, respectively."
   ]
  },
  {
   "cell_type": "markdown",
   "metadata": {
    "id": "RUoVa3tCiUhp"
   },
   "source": [
    "### Load the dataset:"
   ]
  },
  {
   "cell_type": "code",
   "execution_count": null,
   "metadata": {
    "id": "c48_IEO3j8KY",
    "outputId": "8059ee00-8f34-4bff-ffff-24834cadd7e1"
   },
   "outputs": [],
   "source": [
    "from google.colab import drive\n",
    "drive.mount('/content/drive')"
   ]
  },
  {
   "cell_type": "code",
   "execution_count": 2,
   "metadata": {
    "id": "bf_CGqLxiboV",
    "outputId": "91770aa0-65bc-4c87-f824-ee1f607e95e5"
   },
   "outputs": [
    {
     "data": {
      "text/html": [
       "<div>\n",
       "<style scoped>\n",
       "    .dataframe tbody tr th:only-of-type {\n",
       "        vertical-align: middle;\n",
       "    }\n",
       "\n",
       "    .dataframe tbody tr th {\n",
       "        vertical-align: top;\n",
       "    }\n",
       "\n",
       "    .dataframe thead th {\n",
       "        text-align: right;\n",
       "    }\n",
       "</style>\n",
       "<table border=\"1\" class=\"dataframe\">\n",
       "  <thead>\n",
       "    <tr style=\"text-align: right;\">\n",
       "      <th></th>\n",
       "      <th>Email</th>\n",
       "      <th>Address</th>\n",
       "      <th>Avatar</th>\n",
       "      <th>Avg. Session Length</th>\n",
       "      <th>Time on App</th>\n",
       "      <th>Time on Website</th>\n",
       "      <th>Length of Membership</th>\n",
       "      <th>Yearly Amount Spent</th>\n",
       "    </tr>\n",
       "  </thead>\n",
       "  <tbody>\n",
       "    <tr>\n",
       "      <th>0</th>\n",
       "      <td>mstephenson@fernandez.com</td>\n",
       "      <td>835 Frank Tunnel\\nWrightmouth, MI 82180-9605</td>\n",
       "      <td>Violet</td>\n",
       "      <td>34.497268</td>\n",
       "      <td>12.655651</td>\n",
       "      <td>39.577668</td>\n",
       "      <td>4.082621</td>\n",
       "      <td>587.951054</td>\n",
       "    </tr>\n",
       "    <tr>\n",
       "      <th>1</th>\n",
       "      <td>hduke@hotmail.com</td>\n",
       "      <td>4547 Archer Common\\nDiazchester, CA 06566-8576</td>\n",
       "      <td>DarkGreen</td>\n",
       "      <td>31.926272</td>\n",
       "      <td>11.109461</td>\n",
       "      <td>37.268959</td>\n",
       "      <td>2.664034</td>\n",
       "      <td>392.204933</td>\n",
       "    </tr>\n",
       "    <tr>\n",
       "      <th>2</th>\n",
       "      <td>pallen@yahoo.com</td>\n",
       "      <td>24645 Valerie Unions Suite 582\\nCobbborough, D...</td>\n",
       "      <td>Bisque</td>\n",
       "      <td>33.000915</td>\n",
       "      <td>11.330278</td>\n",
       "      <td>37.110597</td>\n",
       "      <td>4.104543</td>\n",
       "      <td>487.547505</td>\n",
       "    </tr>\n",
       "    <tr>\n",
       "      <th>3</th>\n",
       "      <td>riverarebecca@gmail.com</td>\n",
       "      <td>1414 David Throughway\\nPort Jason, OH 22070-1220</td>\n",
       "      <td>SaddleBrown</td>\n",
       "      <td>34.305557</td>\n",
       "      <td>13.717514</td>\n",
       "      <td>36.721283</td>\n",
       "      <td>3.120179</td>\n",
       "      <td>581.852344</td>\n",
       "    </tr>\n",
       "    <tr>\n",
       "      <th>4</th>\n",
       "      <td>mstephens@davidson-herman.com</td>\n",
       "      <td>14023 Rodriguez Passage\\nPort Jacobville, PR 3...</td>\n",
       "      <td>MediumAquaMarine</td>\n",
       "      <td>33.330673</td>\n",
       "      <td>12.795189</td>\n",
       "      <td>37.536653</td>\n",
       "      <td>4.446308</td>\n",
       "      <td>599.406092</td>\n",
       "    </tr>\n",
       "  </tbody>\n",
       "</table>\n",
       "</div>"
      ],
      "text/plain": [
       "                           Email  \\\n",
       "0      mstephenson@fernandez.com   \n",
       "1              hduke@hotmail.com   \n",
       "2               pallen@yahoo.com   \n",
       "3        riverarebecca@gmail.com   \n",
       "4  mstephens@davidson-herman.com   \n",
       "\n",
       "                                             Address            Avatar  \\\n",
       "0       835 Frank Tunnel\\nWrightmouth, MI 82180-9605            Violet   \n",
       "1     4547 Archer Common\\nDiazchester, CA 06566-8576         DarkGreen   \n",
       "2  24645 Valerie Unions Suite 582\\nCobbborough, D...            Bisque   \n",
       "3   1414 David Throughway\\nPort Jason, OH 22070-1220       SaddleBrown   \n",
       "4  14023 Rodriguez Passage\\nPort Jacobville, PR 3...  MediumAquaMarine   \n",
       "\n",
       "   Avg. Session Length  Time on App  Time on Website  Length of Membership  \\\n",
       "0            34.497268    12.655651        39.577668              4.082621   \n",
       "1            31.926272    11.109461        37.268959              2.664034   \n",
       "2            33.000915    11.330278        37.110597              4.104543   \n",
       "3            34.305557    13.717514        36.721283              3.120179   \n",
       "4            33.330673    12.795189        37.536653              4.446308   \n",
       "\n",
       "   Yearly Amount Spent  \n",
       "0           587.951054  \n",
       "1           392.204933  \n",
       "2           487.547505  \n",
       "3           581.852344  \n",
       "4           599.406092  "
      ]
     },
     "execution_count": 2,
     "metadata": {},
     "output_type": "execute_result"
    }
   ],
   "source": [
    "df = pd.read_csv(\"/home/srujan-panchajanya-s-s/BGS GEN AI/DAY 1/Ecommerce Customers.csv\")\n",
    "df.head()"
   ]
  },
  {
   "cell_type": "markdown",
   "metadata": {
    "id": "01OitoycjDhi"
   },
   "source": [
    "## Explore the dataset"
   ]
  },
  {
   "cell_type": "code",
   "execution_count": 3,
   "metadata": {
    "id": "j2ZAwu3zj8KY",
    "outputId": "29a8c512-6570-47df-8c33-0ca8113ad63c"
   },
   "outputs": [
    {
     "name": "stdout",
     "output_type": "stream",
     "text": [
      "<class 'pandas.core.frame.DataFrame'>\n",
      "RangeIndex: 500 entries, 0 to 499\n",
      "Data columns (total 8 columns):\n",
      " #   Column                Non-Null Count  Dtype  \n",
      "---  ------                --------------  -----  \n",
      " 0   Email                 500 non-null    object \n",
      " 1   Address               500 non-null    object \n",
      " 2   Avatar                500 non-null    object \n",
      " 3   Avg. Session Length   500 non-null    float64\n",
      " 4   Time on App           500 non-null    float64\n",
      " 5   Time on Website       500 non-null    float64\n",
      " 6   Length of Membership  500 non-null    float64\n",
      " 7   Yearly Amount Spent   500 non-null    float64\n",
      "dtypes: float64(5), object(3)\n",
      "memory usage: 31.4+ KB\n"
     ]
    },
    {
     "data": {
      "text/plain": [
       "(500, 8)"
      ]
     },
     "execution_count": 3,
     "metadata": {},
     "output_type": "execute_result"
    }
   ],
   "source": [
    "df.info()\n",
    "df.shape"
   ]
  },
  {
   "cell_type": "code",
   "execution_count": null,
   "metadata": {
    "id": "pWzR-15rk2i1",
    "outputId": "79d7fc1c-cfac-46bb-e176-ae0253e82afa"
   },
   "outputs": [],
   "source": [
    "df.columns"
   ]
  },
  {
   "cell_type": "code",
   "execution_count": null,
   "metadata": {
    "id": "-vjSdkqVk38h",
    "outputId": "6d43ea9c-ca48-48b0-e8bd-a4874bd17538"
   },
   "outputs": [],
   "source": [
    "df.dtypes"
   ]
  },
  {
   "cell_type": "code",
   "execution_count": null,
   "metadata": {
    "id": "4H4fQmOFlWL6",
    "outputId": "3717f87e-830a-4ed6-f8ae-6c4984a121d2"
   },
   "outputs": [],
   "source": [
    "df.nunique()"
   ]
  },
  {
   "cell_type": "code",
   "execution_count": null,
   "metadata": {
    "id": "p-ZL0ejxj8KZ",
    "outputId": "5d575a79-cd82-4dca-9ddb-4784030f03bc"
   },
   "outputs": [],
   "source": [
    "df.describe().T"
   ]
  },
  {
   "cell_type": "markdown",
   "metadata": {
    "id": "UstpL46Bllu3"
   },
   "source": [
    "- The Yearly Amount Spent has a relatively large spread (standard deviation of 79.31), indicating a significant variation in how much customers spend annually\n",
    ".\n",
    "- Time on Website seems to have a tighter range compared to Time on App, which suggests that customers generally spend more time on the website than on the app.\n",
    "\n",
    "- The Length of Membership ranges from customers who have been members for less than a year (0.27 years) to those who have been members for almost 7 years (6.92 years)."
   ]
  },
  {
   "cell_type": "code",
   "execution_count": null,
   "metadata": {
    "id": "DVVqDFDSlH0n",
    "outputId": "ff451c94-ffbd-40db-f239-6ccffd645e9d"
   },
   "outputs": [],
   "source": [
    "#is there any missing values?\n",
    "if df.isnull().sum().any():\n",
    " print(\"yes\")\n",
    "else:\n",
    "    print(\"No\")"
   ]
  },
  {
   "cell_type": "code",
   "execution_count": null,
   "metadata": {
    "id": "zPTA13WwlMKq",
    "outputId": "5ede34d5-bfa3-4c92-d131-e3479c23c11d"
   },
   "outputs": [],
   "source": [
    "#is there any dupilacted values?\n",
    "if df.duplicated().any():\n",
    "    print(\"yes\")\n",
    "else:\n",
    "    print(\"No\")"
   ]
  },
  {
   "cell_type": "markdown",
   "metadata": {
    "id": "2XY9X-b8lyNF"
   },
   "source": [
    "### data visualization"
   ]
  },
  {
   "cell_type": "code",
   "execution_count": null,
   "metadata": {
    "id": "sbaPo8T0j8Ka",
    "outputId": "0e54da25-127b-499a-eb7f-cb80952ff34a"
   },
   "outputs": [],
   "source": [
    "# Create a jointplot of Time on Website and Yearly Amount Spent, with a kde scatter plot and a histogram marginal distribution plot\n",
    "sns.jointplot(x=\"Time on Website\", y=\"Yearly Amount Spent\", data=df)"
   ]
  },
  {
   "cell_type": "markdown",
   "metadata": {
    "id": "0onIDcTTj8Ka"
   },
   "source": [
    "**No let's see Time on App & Yearly Amount Spent**"
   ]
  },
  {
   "cell_type": "code",
   "execution_count": null,
   "metadata": {
    "id": "v7wk0B-Rj8Kb",
    "outputId": "9b8b2195-0de6-4fe4-eec9-d4adcfb9d0af"
   },
   "outputs": [],
   "source": [
    "# Create a jointplot of Time on Website and Yearly Amount Spent\n",
    "sns.jointplot(x=\"Time on App\", y=\"Yearly Amount Spent\", data=df)"
   ]
  },
  {
   "cell_type": "markdown",
   "metadata": {
    "id": "Oo3l3zsKj8Kb"
   },
   "source": [
    "**Use jointplot to create a 2D hex bin plot comparing Time on App and Length of Membership**"
   ]
  },
  {
   "cell_type": "code",
   "execution_count": null,
   "metadata": {
    "id": "sV-MYhNsj8Kb",
    "outputId": "46852d4a-593f-44a5-f1d3-04839f0c3489"
   },
   "outputs": [],
   "source": [
    "sns.jointplot(x=\"Time on Website\", y=\"Length of Membership\",data=df, kind='hex')"
   ]
  },
  {
   "cell_type": "markdown",
   "metadata": {
    "id": "NzQJG30Gj8Kb"
   },
   "source": [
    "**Let's explore these types of relationships across the entire data set. Use [pairplot](https://stanford.edu/~mwaskom/software/seaborn/tutorial/axis_grids.html#plotting-pairwise-relationships-with-pairgrid-and-pairplot) to recreate the plot below.(Don't worry about the the colors)**"
   ]
  },
  {
   "cell_type": "code",
   "execution_count": null,
   "metadata": {
    "id": "222H6rtDj8Kc",
    "outputId": "44aafcb9-b8a1-4982-be01-728587a40794"
   },
   "outputs": [],
   "source": [
    "sns.pairplot(data=df)"
   ]
  },
  {
   "cell_type": "code",
   "execution_count": null,
   "metadata": {
    "id": "ggSc10t8ldJA",
    "outputId": "48db9d99-8e5d-4b82-c418-241c71f579b7"
   },
   "outputs": [],
   "source": [
    "numeric_df = df.select_dtypes(include=['number'])\n",
    "sns.heatmap(numeric_df.corr(), annot=True, vmin=-1, vmax=1, cmap='coolwarm')"
   ]
  },
  {
   "cell_type": "markdown",
   "metadata": {
    "id": "nvOlqVtIj8Kc"
   },
   "source": [
    "Based off this plot the *Length of Membership*  looks to be the most correlated feature with Yearly Amount Spent."
   ]
  },
  {
   "cell_type": "code",
   "execution_count": null,
   "metadata": {
    "id": "ALHyB3f4j8Kd",
    "outputId": "6fd08aaa-af2b-4ee8-dbf3-b6353722224d"
   },
   "outputs": [],
   "source": [
    "sns.lmplot(x=\"Length of Membership\", y=\"Yearly Amount Spent\", data=df, line_kws={\"color\": \"pink\"})\n",
    "plt.title(\"Yearly Amount Spent vs. Length of Membership\")\n",
    "plt.xlabel(\"Length of Membership\")\n",
    "plt.ylabel(\"Yearly Amount Spent\")"
   ]
  },
  {
   "cell_type": "markdown",
   "metadata": {
    "id": "wsAxoDslj8Ke"
   },
   "source": [
    "# **Training and Testing Data**\n",
    "\n",
    " **Setting a variable X equal to the numerical features of the customers, which are: 'Avg. Session Length', 'Time on App', 'Time on Website', amd Length of Membership, and a variable y equal to the \"Yearly Amount Spent\" column.**"
   ]
  },
  {
   "cell_type": "code",
   "execution_count": null,
   "metadata": {
    "id": "WbNY2BOcj8Ke"
   },
   "outputs": [],
   "source": [
    "X = df[['Avg. Session Length','Time on App', 'Time on Website','Length of Membership']]\n",
    "y = df[\"Yearly Amount Spent\"]\n"
   ]
  },
  {
   "cell_type": "code",
   "execution_count": null,
   "metadata": {
    "id": "Wo7Vlow7j8Ke"
   },
   "outputs": [],
   "source": [
    "#split the data into training and testing sets. Set test_size=0.3 and random_state=101**\n",
    "X_train, X_test, y_train, y_test = train_test_split(X, y, test_size=0.3, random_state=101)\n"
   ]
  },
  {
   "cell_type": "markdown",
   "metadata": {
    "id": "_1TfZD2Pj8Kf"
   },
   "source": [
    "# **Training the Model**\n",
    "\n"
   ]
  },
  {
   "cell_type": "code",
   "execution_count": null,
   "metadata": {
    "id": "7FT8fmtBj8Kf"
   },
   "outputs": [],
   "source": [
    "#Create an instance of a LinearRegression() model named lm.\n",
    "lm = LinearRegression()\n",
    "# Instantiate the class"
   ]
  },
  {
   "cell_type": "markdown",
   "metadata": {
    "id": "MfQ6EmT-j8Kf"
   },
   "source": [
    "**Train/fit lm on the training data.**"
   ]
  },
  {
   "cell_type": "code",
   "execution_count": null,
   "metadata": {
    "id": "aK501WTSj8Kf",
    "outputId": "5eb268e1-533c-4068-a376-6b70b6c11eae"
   },
   "outputs": [],
   "source": [
    "lm.fit(X_train, y_train)\n",
    "#This function trains the linear regression model lm on the training data\n",
    "#X_train and y_train. #The training data consists of input features (X_train)\n",
    "#and target values (y_train)."
   ]
  },
  {
   "cell_type": "code",
   "execution_count": null,
   "metadata": {
    "id": "dkJstYKFj8Kh",
    "outputId": "7e8cc4e8-55be-427f-ebf4-46b689ad9623"
   },
   "outputs": [],
   "source": [
    "#Print out the coefficients of the model\n",
    "print('Coefficients: \\n', lm.coef_)  #  print  theat 1 , theat 2 ,theta 3, amd theta 4\n",
    "print('intercept_y:\\n', lm.intercept_) # print theta 0"
   ]
  },
  {
   "cell_type": "markdown",
   "metadata": {
    "id": "2aGgGjgWj8Kh"
   },
   "source": [
    "## **Predicting Test Data**\n",
    "**Now that we have fit our model, let's evaluate its performance by predicting off the test values!**"
   ]
  },
  {
   "cell_type": "code",
   "execution_count": null,
   "metadata": {
    "id": "sfIX0K6Rj8Kh"
   },
   "outputs": [],
   "source": [
    "# Use lm.predict() to predict off the X_test set of the data.\n",
    "predictions = lm.predict(X_test)"
   ]
  },
  {
   "cell_type": "code",
   "execution_count": null,
   "metadata": {
    "id": "1iSJJua2j8Ki",
    "outputId": "ec9bbfaf-24c7-409e-e48a-c34b889403b9"
   },
   "outputs": [],
   "source": [
    "# Create a scatter plot of the predicted vs. actual values\n",
    "plt.scatter(predictions, y_test)\n",
    "\n",
    "# Add axis labels\n",
    "plt.xlabel('Predicted Yearly Amount Spent')\n",
    "plt.ylabel('Actual Yearly Amount Spent')\n",
    "\n",
    "# Show the plot\n",
    "plt.show()"
   ]
  },
  {
   "cell_type": "markdown",
   "metadata": {
    "id": "BR-WXbdVj8Ki"
   },
   "source": [
    "## **Evaluating the Model**\n",
    "\n",
    "**Calculate the Mean Absolute Error, Mean Squared Error, and the Root Mean Squared Error.**"
   ]
  },
  {
   "cell_type": "code",
   "execution_count": null,
   "metadata": {
    "id": "9HATRvBlj8Ki",
    "outputId": "8327f3c8-15d1-4649-d4d6-ba0b9c75bab2"
   },
   "outputs": [],
   "source": [
    "# R squared\n",
    "R2_score = r2_score(y_test, predictions)\n",
    "print ('R2_score is', R2_score)\n",
    "\n",
    "#Mean abslute error\n",
    "MEA= mean_absolute_error(y_test, predictions)\n",
    "print('Mean abslute error (MAE):', MEA)\n",
    "\n",
    "#Mean squared error\n",
    "MSE= mean_squared_error(y_test,predictions)\n",
    "print('Mean squared error (MSE):', MSE)\n",
    "\n",
    "#Root mean squared error\n",
    "RMSE=  np.sqrt(mean_squared_error(y_test, predictions))\n",
    "print('Root mean squared error (RMSE):', RMSE)"
   ]
  },
  {
   "cell_type": "markdown",
   "metadata": {
    "id": "Vkf-VTs3j8Ki"
   },
   "source": [
    "**Close RMSE and MSE scores indicate that your model is a good one because it means that the model is able to make predictions that are close to the actual values. This is important because it means that the model is not overfitting the training data and that it is able to generalize to new data. RMSE and MSE are both measures of the difference between the predicted and actual values. RMSE is the square root of the MSE. A lower RMSE or MSE indicates that the model is making more accurate predictions.**"
   ]
  },
  {
   "cell_type": "markdown",
   "metadata": {
    "id": "4LCPGtF8j8Kk"
   },
   "source": [
    "# **Residuals**\n",
    "\n",
    "You should have gotten a very good model with a good fit. Let's quickly explore the residuals to make sure everything was okay with our data.\n",
    "\n",
    "**Plot a histogram of the residuals and make sure it looks normally distributed. Use either seaborn distplot, or just plt.hist().**"
   ]
  },
  {
   "cell_type": "code",
   "execution_count": null,
   "metadata": {
    "id": "GYVfw--6j8Kk",
    "outputId": "2109653c-faaa-44c3-f424-ca4f0a53cec0"
   },
   "outputs": [],
   "source": [
    "# Calculate the residuals\n",
    "residuals = y_test - predictions\n",
    "\n",
    "# Plot a histogram of the residuals\n",
    "sns.distplot(residuals)\n",
    "\n",
    "# Show the plot\n",
    "plt.show()"
   ]
  },
  {
   "cell_type": "markdown",
   "metadata": {
    "id": "6SlNFwtzj8Kk"
   },
   "source": [
    "## **Conclusion**\n",
    "**We still want to figure out the answer to the original question, do we focus our efforst on mobile app or website development? Or maybe that doesn't even really matter, and Membership Time is what is really important.  Let's see if we can interpret the coefficients at all to get an idea.**\n",
    "\n",
    " **Recreate the dataframe below.**"
   ]
  },
  {
   "cell_type": "code",
   "execution_count": null,
   "metadata": {
    "id": "MX_iQm9vZ5JT",
    "outputId": "49712d9a-69a2-4265-953b-a89486c48f5c"
   },
   "outputs": [],
   "source": [
    "coefs = lm.coef_\n",
    "\n",
    "# Create a dataframe with the coefficients\n",
    "df = pd.DataFrame(data=coefs, columns=['Coefficient'], index=X_train.columns)\n",
    "\n",
    "# Print the dataframe\n",
    "df.head()"
   ]
  },
  {
   "cell_type": "code",
   "execution_count": null,
   "metadata": {
    "id": "Jgp1zgnpj8Kl",
    "outputId": "efe2b9da-670d-413d-8c7f-e01379739476"
   },
   "outputs": [],
   "source": [
    "# Visualize the model results\n",
    "plt.scatter(predictions, y_test)\n",
    "plt.xlabel('Predicted Yearly Amount Spent')\n",
    "plt.ylabel('Actual Yearly Amount Spent')\n",
    "plt.show()\n"
   ]
  },
  {
   "cell_type": "markdown",
   "metadata": {
    "id": "a_w4JaE1s_Es"
   },
   "source": [
    "# **How can you interpret these coefficients?**\n",
    "\n",
    "**Holding all other features fixed, a 1 unit increase in Avg. Session Length is associated with an increase of 25.98 total dollars spent. Holding all other features fixed, a 1 unit increase in Time on App is associated with an increase** **of 38.59 total dollars spent. Holding all other features fixed, a 1 unit increase in Time on Website is associated with an increase of 0.19 total dollars spent. Holding all other features fixed, a 1 unit increase in Length of Membership is associated with an increase of 61.27 total dollars spent.**"
   ]
  },
  {
   "cell_type": "markdown",
   "metadata": {
    "id": "f6Hu7KE9tnAL"
   },
   "source": [
    "# **Do you think the company should focus more on their mobile app or on their website?**\n",
    "\n",
    "**This is tricky, there are two ways to think about this: Develop the Website to catch up to the performance of the mobile app, or develop the app more since that is what is working better. This sort of answer really depends on the other factors going on at the company, you would probably want to explore the relationship between Length of Membership and the App or the Website before coming to a conclusion!**"
   ]
  }
 ],
 "metadata": {
  "colab": {
   "provenance": []
  },
  "kaggle": {
   "accelerator": "none",
   "dataSources": [
    {
     "datasetId": 3003291,
     "sourceId": 5167663,
     "sourceType": "datasetVersion"
    }
   ],
   "isGpuEnabled": false,
   "isInternetEnabled": true,
   "language": "python",
   "sourceType": "notebook"
  },
  "kernelspec": {
   "display_name": "myenv",
   "language": "python",
   "name": "python3"
  },
  "language_info": {
   "codemirror_mode": {
    "name": "ipython",
    "version": 3
   },
   "file_extension": ".py",
   "mimetype": "text/x-python",
   "name": "python",
   "nbconvert_exporter": "python",
   "pygments_lexer": "ipython3",
   "version": "3.12.3"
  },
  "toc": {
   "base_numbering": 1,
   "nav_menu": {},
   "number_sections": true,
   "sideBar": true,
   "skip_h1_title": false,
   "title_cell": "Table of Contents",
   "title_sidebar": "Contents",
   "toc_cell": false,
   "toc_position": {},
   "toc_section_display": true,
   "toc_window_display": false
  }
 },
 "nbformat": 4,
 "nbformat_minor": 4
}
